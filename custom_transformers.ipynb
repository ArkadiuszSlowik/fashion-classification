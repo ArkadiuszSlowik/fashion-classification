{
 "cells": [
  {
   "cell_type": "code",
   "execution_count": 7,
   "metadata": {},
   "outputs": [],
   "source": [
    "from sklearn.base import BaseEstimator, TransformerMixin\n",
    "from sklearn.feature_selection import VarianceThreshold\n",
    "import numpy as np"
   ]
  },
  {
   "cell_type": "code",
   "execution_count": 8,
   "metadata": {},
   "outputs": [],
   "source": [
    "class CombinedAttributesAdder(BaseEstimator, TransformerMixin):\n",
    "    \"\"\"\n",
    "    Adds new features by dividing pairs of features.\n",
    "    \"\"\"\n",
    "    def fit(self, X, y=None):\n",
    "        return self\n",
    "    def transform(self, X, y=None):\n",
    "        ratio_cols = []\n",
    "        for i in range(9):\n",
    "            for j in range(i+1,9):\n",
    "                ratio_cols.append(X[:, i] / X[:, j])\n",
    "        ratio_cols = np.array(ratio_cols).T\n",
    "        return np.concatenate((X, ratio_cols), axis=1)"
   ]
  },
  {
   "cell_type": "code",
   "execution_count": null,
   "metadata": {},
   "outputs": [],
   "source": [
    "class PixeltoBinary(BaseEstimator, TransformerMixin):\n",
    "    \"\"\"\n",
    "    For every pixel returns 1 if value is bigger than floor and 0 if it's not.\n",
    "    \"\"\"\n",
    "    def __init__(self, floor=0):\n",
    "        self.floor = floor\n",
    "    def fit(self, X, y=None):\n",
    "        return self\n",
    "    def transform(self, X, y=None):\n",
    "        X[X<=self.floor] = 0\n",
    "        X[X>self.floor] = 1\n",
    "        return X"
   ]
  },
  {
   "cell_type": "code",
   "execution_count": null,
   "metadata": {},
   "outputs": [],
   "source": [
    "class DropConstantColumn(BaseEstimator, TransformerMixin):\n",
    "    \"\"\"\n",
    "    Dropping constant/ quasi-constant columns.\n",
    "    Drop column if it's variance is too low.\n",
    "    \"\"\"\n",
    "    def __init__(self, threshold=0):\n",
    "        self.threshold = threshold\n",
    "    def fit(self, X, y=None):\n",
    "        return self\n",
    "    def transform(self, X, y=None):\n",
    "        selector = VarianceThreshold(self.threshold)\n",
    "        X = selector.fit_transform(X)\n",
    "        print(\"Number of columns dropped: \", sum( ~ selector.get_support()))\n",
    "        print(\"Columns dropped: \", np.nonzero(~ selector.get_support()))\n",
    "        return X"
   ]
  }
 ],
 "metadata": {
  "kernelspec": {
   "display_name": "Python 3",
   "language": "python",
   "name": "python3"
  },
  "language_info": {
   "codemirror_mode": {
    "name": "ipython",
    "version": 3
   },
   "file_extension": ".py",
   "mimetype": "text/x-python",
   "name": "python",
   "nbconvert_exporter": "python",
   "pygments_lexer": "ipython3",
   "version": "3.7.3"
  }
 },
 "nbformat": 4,
 "nbformat_minor": 5
}
